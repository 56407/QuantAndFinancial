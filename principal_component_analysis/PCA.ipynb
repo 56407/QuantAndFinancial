{
 "cells": [
  {
   "cell_type": "markdown",
   "metadata": {},
   "source": [
    "Copyright &copy; 2015 Ondrej Martinsky, All rights reserved\n",
    "\n",
    "[www.quantandfinancial.com](www.quantandfinancial.com)\n",
    "# Principal Component Analysis (PCA)"
   ]
  },
  {
   "cell_type": "code",
   "execution_count": 1,
   "metadata": {
    "collapsed": false
   },
   "outputs": [
    {
     "name": "stdout",
     "output_type": "stream",
     "text": [
      "Using matplotlib backend: Qt4Agg\n",
      "Populating the interactive namespace from numpy and matplotlib\n"
     ]
    }
   ],
   "source": [
    "from numpy import testing\n",
    "from mpl_toolkits.mplot3d import Axes3D\n",
    "%pylab\n",
    "%matplotlib inline\n",
    "seed(0)\n",
    "class Eigen:\n",
    "    def __init__(self,value,vector):\n",
    "        self.value,self.vector=value,vector"
   ]
  },
  {
   "cell_type": "markdown",
   "metadata": {},
   "source": [
    "## Load/Create Data"
   ]
  },
  {
   "cell_type": "code",
   "execution_count": 2,
   "metadata": {
    "collapsed": false,
    "scrolled": true
   },
   "outputs": [
    {
     "name": "stdout",
     "output_type": "stream",
     "text": [
      "(3, 100)\n"
     ]
    },
    {
     "data": {
      "image/png": "[encoded data removed]",
      "text/plain": [
       "<matplotlib.figure.Figure at 0x12a068b8780>"
      ]
     },
     "metadata": {},
     "output_type": "display_data"
    }
   ],
   "source": [
    "data = zeros((3,100))\n",
    "data[0] = linspace(0,1,100) + rand(100)*0.1\n",
    "data[1] = linspace(1,2,100) + rand(100)*0.5\n",
    "data[2] = linspace(0.2,0.5,100)\n",
    "plot(data.transpose());\n",
    "print(data.shape)"
   ]
  },
  {
   "cell_type": "markdown",
   "metadata": {},
   "source": [
    "## Calculate Correlation and Covariance Matrix $\\Sigma$"
   ]
  },
  {
   "cell_type": "markdown",
   "metadata": {
    "collapsed": false
   },
   "source": [
    "#### Covariance matrix $\\Sigma$"
   ]
  },
  {
   "cell_type": "code",
   "execution_count": 3,
   "metadata": {
    "collapsed": false
   },
   "outputs": [
    {
     "name": "stdout",
     "output_type": "stream",
     "text": [
      "[[ 0.08241935  0.07541586  0.0251183 ]\n",
      " [ 0.07541586  0.08911996  0.02334904]\n",
      " [ 0.0251183   0.02334904  0.0077288 ]]\n"
     ]
    }
   ],
   "source": [
    "Sigma = cov(data)\n",
    "print(Sigma)"
   ]
  },
  {
   "cell_type": "markdown",
   "metadata": {},
   "source": [
    "#### Correlation Matrix"
   ]
  },
  {
   "cell_type": "code",
   "execution_count": 4,
   "metadata": {
    "collapsed": false
   },
   "outputs": [
    {
     "name": "stdout",
     "output_type": "stream",
     "text": [
      "[[ 1.          0.95201736  0.99980609]\n",
      " [ 0.95201736  1.          0.95785949]\n",
      " [ 0.99980609  0.95785949  1.        ]]\n"
     ]
    }
   ],
   "source": [
    "Correlation = corrcoef(Sigma)\n",
    "print(Correlation)"
   ]
  },
  {
   "cell_type": "markdown",
   "metadata": {},
   "source": [
    "## Calculate Eigenvalues and Eigenvectors"
   ]
  },
  {
   "cell_type": "markdown",
   "metadata": {},
   "source": [
    "Eigenvalues is diagonal in matrix $\\Lambda$\n",
    "\n",
    "Eigenvectors $V$ are calculated in such way that matrix $\\Lambda$ is as much \"diagonal\" as possible. Eigenvalues are then on that diagonal and the other cells are as close to 0 as possible\n",
    "\n",
    "$\\Sigma = V\\Lambda V'$"
   ]
  },
  {
   "cell_type": "code",
   "execution_count": 5,
   "metadata": {
    "collapsed": true
   },
   "outputs": [],
   "source": [
    "eig_vals, V = linalg.eig(Sigma)"
   ]
  },
  {
   "cell_type": "markdown",
   "metadata": {},
   "source": [
    "### Eigen Values and Eigenvectors\n",
    "Eigenvectors are columns in the matrix $V$\n",
    "\n",
    "Eigenvalues are numbers from diagonal in matrix $\\Lambda$"
   ]
  },
  {
   "cell_type": "code",
   "execution_count": 6,
   "metadata": {
    "collapsed": false
   },
   "outputs": [
    {
     "name": "stdout",
     "output_type": "stream",
     "text": [
      "[  1.68549069e-01   1.06571537e-02   6.18892395e-05]\n",
      "\n",
      "[[-0.67799357 -0.68061157 -0.27765557]\n",
      " [-0.704953    0.70905721 -0.01670755]\n",
      " [-0.20824503 -0.18440652  0.96053539]]\n"
     ]
    }
   ],
   "source": [
    "print(eig_vals)\n",
    "print()\n",
    "print(V)"
   ]
  },
  {
   "cell_type": "markdown",
   "metadata": {},
   "source": [
    "### Determine eigenvectors with largest eigenvalues"
   ]
  },
  {
   "cell_type": "code",
   "execution_count": 7,
   "metadata": {
    "collapsed": false
   },
   "outputs": [
    {
     "name": "stdout",
     "output_type": "stream",
     "text": [
      "All eigenvectors have the same norm\n",
      "\n",
      "Eigen values and eigen vectors in descending order\n",
      "[0]   Value=0.168549, Vector=[-0.677993565383,-0.704953000036,-0.208245031249]\n",
      "      explains 94.020664% of variance\n",
      "[1]   Value=0.010657, Vector=[-0.680611571144,0.709057209012,-0.184406517166]\n",
      "      explains 5.944813% of variance\n",
      "[2]   Value=0.000062, Vector=[-0.277655568151,-0.0167075458478,0.960535394135]\n",
      "      explains 0.034523% of variance\n"
     ]
    }
   ],
   "source": [
    "eig_pairs = [Eigen(abs(eig_vals[i]), V.transpose()[i]) for i in range(len(eig_vals))]\n",
    "for v in V:\n",
    "    testing.assert_array_almost_equal(1.0, np.linalg.norm(v))\n",
    "print(\"All eigenvectors have the same norm\")\n",
    "eig_pairs.sort(key=lambda x: x.value, reverse=True)\n",
    "print()\n",
    "print('Eigen values and eigen vectors in descending order')\n",
    "for i, pair in enumerate(eig_pairs):\n",
    "    print(\"[%i]   Value=%f, Vector=[%s]\" % (i, pair.value, \",\".join([str(x) for x in pair.vector])))\n",
    "    print(\"      explains %f%% of variance\" % (100 * pair.value / sum(eig_vals)))"
   ]
  },
  {
   "cell_type": "markdown",
   "metadata": {},
   "source": [
    "Verify relationship $\\Sigma = V \\Lambda V'$\n",
    "\n",
    "by calculating $\\Lambda = V' * \\Sigma * V$"
   ]
  },
  {
   "cell_type": "code",
   "execution_count": 8,
   "metadata": {
    "collapsed": false
   },
   "outputs": [
    {
     "name": "stdout",
     "output_type": "stream",
     "text": [
      "[[  3.78861359e-02   3.61844662e-02   1.45235023e-03]\n",
      " [  3.61844662e-02   4.48061417e-02   7.19379188e-05]\n",
      " [  1.45235023e-03   7.19379188e-05   7.13081210e-03]]\n",
      "\n",
      "[[  1.74153199e-02   1.73612768e-02   8.39754602e-05]\n",
      " [  1.73612768e-02   2.25268311e-02   2.21639313e-07]\n",
      " [  8.39754602e-05   2.21639313e-07   6.57908865e-03]]\n",
      "\n",
      "[[ 0.08241935  0.07541586  0.0251183 ]\n",
      " [ 0.07541586  0.08911996  0.02334904]\n",
      " [ 0.0251183   0.02334904  0.0077288 ]]\n"
     ]
    }
   ],
   "source": [
    "Lambda = inv(V) * Sigma * V\n",
    "print(Lambda)\n",
    "print()\n",
    "print(V * Lambda * inv(V))\n",
    "print()\n",
    "print(Sigma)"
   ]
  },
  {
   "cell_type": "markdown",
   "metadata": {},
   "source": [
    "## Create Transformation Matrix\n",
    "Select only those eigenvectors (columns) which have highest eigenvalues"
   ]
  },
  {
   "cell_type": "code",
   "execution_count": 9,
   "metadata": {
    "collapsed": false
   },
   "outputs": [
    {
     "name": "stdout",
     "output_type": "stream",
     "text": [
      "Transformation matrix to 2 dimensions \n",
      "[[-0.67799357 -0.68061157]\n",
      " [-0.704953    0.70905721]\n",
      " [-0.20824503 -0.18440652]]\n"
     ]
    }
   ],
   "source": [
    "dimensions = 2\n",
    "transformation = matrix(hstack(pair.vector.reshape(-1,1) for pair in eig_pairs[:dimensions]))\n",
    "print(\"Transformation matrix to %i dimensions \" % transformation.shape[1])\n",
    "print(transformation)"
   ]
  },
  {
   "cell_type": "markdown",
   "metadata": {},
   "source": [
    "## Transform Data"
   ]
  },
  {
   "cell_type": "code",
   "execution_count": 10,
   "metadata": {
    "collapsed": false
   },
   "outputs": [],
   "source": [
    "data2 = data.transpose() * transformation"
   ]
  },
  {
   "cell_type": "markdown",
   "metadata": {},
   "source": [
    "## Display Data"
   ]
  },
  {
   "cell_type": "code",
   "execution_count": 11,
   "metadata": {
    "collapsed": false
   },
   "outputs": [
    {
     "name": "stdout",
     "output_type": "stream",
     "text": [
      "(100, 3)\n",
      "(100, 2)\n"
     ]
    }
   ],
   "source": [
    "print(data.transpose().shape)\n",
    "print(data2.shape)"
   ]
  },
  {
   "cell_type": "code",
   "execution_count": 12,
   "metadata": {
    "collapsed": false
   },
   "outputs": [
    {
     "data": {
      "image/png": "[encoded data removed]",
      "text/plain": [
       "<matplotlib.figure.Figure at 0x12a068b8668>"
      ]
     },
     "metadata": {},
     "output_type": "display_data"
    }
   ],
   "source": [
    "fig = plt.figure()\n",
    "ax = fig.add_subplot(111)\n",
    "for point in asarray(data.transpose()):\n",
    "    ax.scatter(*point,c='b')\n",
    "for point in asarray(data2):\n",
    "    ax.scatter(*point,c='r')"
   ]
  }
 ],
 "metadata": {
  "anaconda-cloud": {},
  "kernelspec": {
   "display_name": "Python [Root]",
   "language": "python",
   "name": "Python [Root]"
  },
  "language_info": {
   "codemirror_mode": {
    "name": "ipython",
    "version": 3
   },
   "file_extension": ".py",
   "mimetype": "text/x-python",
   "name": "python",
   "nbconvert_exporter": "python",
   "pygments_lexer": "ipython3",
   "version": "3.5.2"
  }
 },
 "nbformat": 4,
 "nbformat_minor": 0
}
