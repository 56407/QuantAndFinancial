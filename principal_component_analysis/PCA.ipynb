{
 "cells": [
  {
   "cell_type": "markdown",
   "metadata": {},
   "source": [
    "Copyright &copy; 2015 Ondrej Martinsky, All rights reserved\n",
    "\n",
    "[www.quantandfinancial.com](www.quantandfinancial.com)\n",
    "# Principal Component Analysis (PCA)"
   ]
  },
  {
   "cell_type": "code",
   "execution_count": 1,
   "metadata": {
    "collapsed": false
   },
   "outputs": [
    {
     "name": "stdout",
     "output_type": "stream",
     "text": [
      "Using matplotlib backend: Qt4Agg\n",
      "Populating the interactive namespace from numpy and matplotlib\n"
     ]
    }
   ],
   "source": [
    "from numpy import testing\n",
    "from mpl_toolkits.mplot3d import Axes3D\n",
    "%pylab\n",
    "%matplotlib inline\n",
    "class Eigen:\n",
    "    def __init__(self,value,vector):\n",
    "        self.value,self.vector=value,vector"
   ]
  },
  {
   "cell_type": "markdown",
   "metadata": {},
   "source": [
    "## Load/Create Data"
   ]
  },
  {
   "cell_type": "code",
   "execution_count": 2,
   "metadata": {
    "collapsed": false,
    "scrolled": true
   },
   "outputs": [
    {
     "name": "stdout",
     "output_type": "stream",
     "text": [
      "(3, 100)\n"
     ]
    },
    {
     "data": {
      "image/png": "[encoded data removed]",
      "text/plain": [
       "<matplotlib.figure.Figure at 0x197826de8d0>"
      ]
     },
     "metadata": {},
     "output_type": "display_data"
    }
   ],
   "source": [
    "data = zeros((3,100))\n",
    "data[0] = linspace(0,1,100) + rand(100)*0.1\n",
    "data[1] = linspace(1,2,100) + rand(100)*0.5\n",
    "data[2] = linspace(0.2,0.5,100)\n",
    "plot(data.transpose());\n",
    "print(data.shape)"
   ]
  },
  {
   "cell_type": "markdown",
   "metadata": {},
   "source": [
    "## Calculate Correlation and Covariance Matrix $\\Sigma$"
   ]
  },
  {
   "cell_type": "markdown",
   "metadata": {
    "collapsed": false
   },
   "source": [
    "#### Covariance matrix $\\Sigma$"
   ]
  },
  {
   "cell_type": "code",
   "execution_count": 3,
   "metadata": {
    "collapsed": false
   },
   "outputs": [
    {
     "name": "stdout",
     "output_type": "stream",
     "text": [
      "[[ 0.08939261  0.08777791  0.02614856]\n",
      " [ 0.08777791  0.10879487  0.02598857]\n",
      " [ 0.02614856  0.02598857  0.0077288 ]]\n"
     ]
    }
   ],
   "source": [
    "Sigma = cov(data)\n",
    "print(Sigma)"
   ]
  },
  {
   "cell_type": "markdown",
   "metadata": {},
   "source": [
    "#### Correlation Matrix"
   ]
  },
  {
   "cell_type": "code",
   "execution_count": 4,
   "metadata": {
    "collapsed": false
   },
   "outputs": [
    {
     "name": "stdout",
     "output_type": "stream",
     "text": [
      "[[ 1.          0.96403157  0.99988992]\n",
      " [ 0.96403157  1.          0.96786906]\n",
      " [ 0.99988992  0.96786906  1.        ]]\n"
     ]
    }
   ],
   "source": [
    "Correlation = corrcoef(Sigma)\n",
    "print(Correlation)"
   ]
  },
  {
   "cell_type": "markdown",
   "metadata": {},
   "source": [
    "## Calculate Eigenvalues and Eigenvectors"
   ]
  },
  {
   "cell_type": "markdown",
   "metadata": {},
   "source": [
    "Eigenvalues is diagonal in matrix $\\Lambda$\n",
    "\n",
    "Eigenvectors $V$ are calculated in such way that matrix $\\Lambda$ is as much \"diagonal\" as possible. Eigenvalues are then on that diagonal and the other cells are as close to 0 as possible\n",
    "\n",
    "$\\Sigma = V\\Lambda V'$"
   ]
  },
  {
   "cell_type": "code",
   "execution_count": 5,
   "metadata": {
    "collapsed": true
   },
   "outputs": [],
   "source": [
    "eig_vals, V = linalg.eig(Sigma)"
   ]
  },
  {
   "cell_type": "markdown",
   "metadata": {},
   "source": [
    "### Eigen Values and Eigenvectors\n",
    "Eigenvectors are columns in the matrix $V$\n",
    "\n",
    "Eigenvalues are numbers from diagonal in matrix $\\Lambda$"
   ]
  },
  {
   "cell_type": "code",
   "execution_count": 6,
   "metadata": {
    "collapsed": false
   },
   "outputs": [
    {
     "name": "stdout",
     "output_type": "stream",
     "text": [
      "[  1.94653673e-01   1.11924283e-02   7.01810735e-05]\n",
      "\n",
      "[[ 0.65624287  0.70475109 -0.26957596]\n",
      " [ 0.72939377 -0.68397946 -0.01252265]\n",
      " [ 0.19320977  0.18840913  0.9628977 ]]\n"
     ]
    }
   ],
   "source": [
    "print(eig_vals)\n",
    "print()\n",
    "print(V)"
   ]
  },
  {
   "cell_type": "markdown",
   "metadata": {},
   "source": [
    "### Determine eigenvectors with largest eigenvalues"
   ]
  },
  {
   "cell_type": "code",
   "execution_count": 7,
   "metadata": {
    "collapsed": false
   },
   "outputs": [
    {
     "name": "stdout",
     "output_type": "stream",
     "text": [
      "All eigenvectors have the same norm\n",
      "\n",
      "Eigen values and eigen vectors in descending order\n",
      "[0]   Value=0.194654, Vector=[0.656242872881,0.729393773796,0.193209768232]\n",
      "      explains 94.530491% of variance\n",
      "[1]   Value=0.011192, Vector=[0.704751087446,-0.683979463163,0.188409125881]\n",
      "      explains 5.435427% of variance\n",
      "[2]   Value=0.000070, Vector=[-0.269575956897,-0.0125226482219,0.962897703157]\n",
      "      explains 0.034082% of variance\n"
     ]
    }
   ],
   "source": [
    "eig_pairs = [Eigen(abs(eig_vals[i]), V.transpose()[i]) for i in range(len(eig_vals))]\n",
    "for v in V:\n",
    "    testing.assert_array_almost_equal(1.0, np.linalg.norm(v))\n",
    "print(\"All eigenvectors have the same norm\")\n",
    "eig_pairs.sort(key=lambda x: x.value, reverse=True)\n",
    "print()\n",
    "print('Eigen values and eigen vectors in descending order')\n",
    "for i, pair in enumerate(eig_pairs):\n",
    "    print(\"[%i]   Value=%f, Vector=[%s]\" % (i, pair.value, \",\".join([str(x) for x in pair.vector])))\n",
    "    print(\"      explains %f%% of variance\" % (100 * pair.value / sum(eig_vals)))"
   ]
  },
  {
   "cell_type": "markdown",
   "metadata": {},
   "source": [
    "Verify relationship $\\Sigma = V \\Lambda V'$\n",
    "\n",
    "by calculating $\\Lambda = V' * \\Sigma * V$"
   ]
  },
  {
   "cell_type": "code",
   "execution_count": 8,
   "metadata": {
    "collapsed": false
   },
   "outputs": [
    {
     "name": "stdout",
     "output_type": "stream",
     "text": [
      "[[  3.84973485e-02   4.51214520e-02  -1.36194027e-03]\n",
      " [  4.51214520e-02   5.08972759e-02  -6.13169487e-05]\n",
      " [ -1.36194027e-03  -6.13169487e-05   7.16592980e-03]]\n",
      "\n",
      "[[  1.65790644e-02   2.31942788e-02   7.09362616e-05]\n",
      " [  2.31942788e-02   2.38111660e-02   1.44670056e-07]\n",
      " [  7.09362616e-05   1.44670056e-07   6.64404937e-03]]\n",
      "\n",
      "[[ 0.08939261  0.08777791  0.02614856]\n",
      " [ 0.08777791  0.10879487  0.02598857]\n",
      " [ 0.02614856  0.02598857  0.0077288 ]]\n"
     ]
    }
   ],
   "source": [
    "Lambda = inv(V) * Sigma * V\n",
    "print(Lambda)\n",
    "print()\n",
    "print(V * Lambda * inv(V))\n",
    "print()\n",
    "print(Sigma)"
   ]
  },
  {
   "cell_type": "markdown",
   "metadata": {},
   "source": [
    "## Create Transformation Matrix\n",
    "Select only those eigenvectors (columns) which have highest eigenvalues"
   ]
  },
  {
   "cell_type": "code",
   "execution_count": 9,
   "metadata": {
    "collapsed": false
   },
   "outputs": [
    {
     "name": "stdout",
     "output_type": "stream",
     "text": [
      "Transformation matrix to 2 dimensions \n",
      "[[ 0.65624287  0.70475109]\n",
      " [ 0.72939377 -0.68397946]\n",
      " [ 0.19320977  0.18840913]]\n"
     ]
    }
   ],
   "source": [
    "dimensions = 2\n",
    "transformation = matrix(hstack(pair.vector.reshape(-1,1) for pair in eig_pairs[:dimensions]))\n",
    "print(\"Transformation matrix to %i dimensions \" % transformation.shape[1])\n",
    "print(transformation)"
   ]
  },
  {
   "cell_type": "markdown",
   "metadata": {},
   "source": [
    "## Transform Data"
   ]
  },
  {
   "cell_type": "code",
   "execution_count": 10,
   "metadata": {
    "collapsed": false
   },
   "outputs": [],
   "source": [
    "data2 = data.transpose() * transformation"
   ]
  },
  {
   "cell_type": "markdown",
   "metadata": {},
   "source": [
    "## Display Data"
   ]
  },
  {
   "cell_type": "code",
   "execution_count": 11,
   "metadata": {
    "collapsed": false
   },
   "outputs": [
    {
     "name": "stdout",
     "output_type": "stream",
     "text": [
      "(100, 3)\n",
      "(100, 2)\n"
     ]
    }
   ],
   "source": [
    "print(data.transpose().shape)\n",
    "print(data2.shape)"
   ]
  },
  {
   "cell_type": "code",
   "execution_count": 12,
   "metadata": {
    "collapsed": false
   },
   "outputs": [
    {
     "data": {
      "image/png": "[encoded data removed]",
      "text/plain": [
       "<matplotlib.figure.Figure at 0x197826de898>"
      ]
     },
     "metadata": {},
     "output_type": "display_data"
    }
   ],
   "source": [
    "fig = plt.figure()\n",
    "ax = fig.add_subplot(111)\n",
    "for point in asarray(data.transpose()):\n",
    "    ax.scatter(*point,c='b')\n",
    "for point in asarray(data2):\n",
    "    ax.scatter(*point,c='r')"
   ]
  }
 ],
 "metadata": {
  "anaconda-cloud": {},
  "kernelspec": {
   "display_name": "Python [Root]",
   "language": "python",
   "name": "Python [Root]"
  },
  "language_info": {
   "codemirror_mode": {
    "name": "ipython",
    "version": 3
   },
   "file_extension": ".py",
   "mimetype": "text/x-python",
   "name": "python",
   "nbconvert_exporter": "python",
   "pygments_lexer": "ipython3",
   "version": "3.5.2"
  }
 },
 "nbformat": 4,
 "nbformat_minor": 0
}
